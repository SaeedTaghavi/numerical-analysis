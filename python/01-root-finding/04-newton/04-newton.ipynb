{
 "cells": [
  {
   "cell_type": "markdown",
   "metadata": {},
   "source": [
    "# NEWTON’S METHOD\n",
    "\n",
    "Newton’s Method, also called the Newton–Raphson Method, usually converges much faster\n",
    "than the linearly convergent methods we have seen previously. The geometric picture of\n",
    "Newton’s Method is shown in Figure. To find a root of $f (x) = 0$, a starting guess\n",
    "$x_0$ is given, and the tangent line to the function $f$ at $x_0$ is drawn. The tangent line will approximately follow the function down to the x-axis toward the root. The intersection point of the line with the x-axis is an approximate root, but probably not exact if $f$ curves. Therefore, this step is iterated.\n",
    "\n",
    "\n",
    "![newton](./img/newton-01.png)\n",
    "\n",
    "From the geometric picture, we can develop an algebraic formula for Newton’s\n",
    "Method. The tangent line at $x_0$ has slope given by the derivative $f' (x_0 )$. One point\n",
    "on the tangent line is $(x_0 , f (x_0 ))$. The point-slope formula for the equation of a line is $y − f (x_0 ) = f' (x_0 )(x − x_0 )$, so that looking for the intersection point of the tangent line with the x-axis is the same as substituting $y = 0$ in the line:\n",
    "\n",
    "$$ f'(x_0)(x-x_0)=0-f(x_0) $$\n",
    "$$ x-x_0=-\\frac{f(x_0)}{f'(x_0)} $$\n",
    "$$ x=x_0 -\\frac{f(x_0)}{f'(x_0)} $$\n",
    "\n",
    "\n",
    "Solving for $x$ gives an approximation for the root, which we call $x_1$ . Next, the entire process is repeated, beginning with $x_1$ , to produce $x_2$ , and so on, yielding the following iterative formula:\n",
    "![alg-newton](./img/alg-newton.png)"
   ]
  },
  {
   "cell_type": "markdown",
   "metadata": {},
   "source": [
    "**EXAMPLE:**  Find the Newton’s Method formula for the equation $x^3 + x − 1 = 0$.\n",
    "**Solution:**\n",
    "\n",
    "Since $f' (x) = 3x^2 + 1$, the formula is given by:\n",
    "$$ x_{i+1} = x_i - \\frac{x_i^3 + x_i − 1}{3x_i^2 + 1} $$\n",
    "$$ x_{i+1} = \\frac{2x_i^3 + 1}{ 3x_i^2 + 1} $$\n",
    "\n",
    "Iterating this formula from initial guess $x_0 = −0.7$ yields:\n",
    "\n",
    "$$ x_1=\\frac{2x_0^3 + 1}{ 3x_0^2 + 1} = \\frac{2(-0.7)^3 + 1}{ 3(-0.7)^2 + 1} \\approx 0.1271 $$\n",
    "$$ x_2=\\frac{2x_1^3 + 1}{ 3x_1^2 + 1} = \\frac{2(0.1271)^3 + 1}{ 3(0.1271)^2 + 1} \\approx 0.9577 $$\n",
    "\n",
    "These steps are shown geometrically in Figure.\n",
    "Further steps are given in the following table.\n",
    "\n",
    "| ![newton-example](./img/newton-02.png) |\n",
    "| :---: |\n",
    "| Three steps of newton’s method. |"
   ]
  },
  {
   "cell_type": "code",
   "execution_count": 1,
   "metadata": {},
   "outputs": [
    {
     "name": "stdout",
     "output_type": "stream",
     "text": [
      "-0.7\n",
      "0.127125506073\n",
      "0.957678119176\n",
      "0.734827794995\n",
      "0.684591770685\n",
      "0.682332174204\n",
      "0.682327803844\n",
      "0.682327803828\n"
     ]
    }
   ],
   "source": [
    "hadse_avalie=-0.7\n",
    "x= hadse_avalie\n",
    "for i in range(8):\n",
    "    print(x)\n",
    "    x=(2.0*x*x*x + 1.0)/(3.0 * x* x +1)\n",
    "    "
   ]
  },
  {
   "cell_type": "markdown",
   "metadata": {},
   "source": [
    "# Computer Problems\n",
    "1. Each equation has one root. Use Newton’s Method to approximate the root to eight correct decimal places. \n",
    "    - (a) $x^3 = 2x + 2$\n",
    "    - (b) $e^x + x = 7$\n",
    "    - (c) $e^x + \\sin x = 4$"
   ]
  },
  {
   "cell_type": "code",
   "execution_count": 2,
   "metadata": {},
   "outputs": [
    {
     "name": "stdout",
     "output_type": "stream",
     "text": [
      "-2.64347826087\n",
      "-1.84271554762\n",
      "-1.28429297507\n",
      "-0.758641929965\n",
      "-4.12142868808\n",
      "-2.81901094883\n",
      "-1.95986460529\n",
      "-1.3709615161\n",
      "-0.866689397229\n",
      "2.75386627906\n",
      "2.10923402747\n",
      "1.83027514719\n",
      "1.77180089417\n",
      "1.76929686133\n",
      "1.76929235425\n",
      "1.76929235424\n",
      "1.76929235424\n",
      "1.76929235424\n",
      "1.76929235424\n",
      "1.76929235424\n"
     ]
    }
   ],
   "source": [
    "x=0.6\n",
    "for i in range(20):\n",
    "    x=(2.0*x*x*x+2.0)/(3.0*x*x-2.0)\n",
    "    print(x)"
   ]
  },
  {
   "cell_type": "code",
   "execution_count": null,
   "metadata": {},
   "outputs": [],
   "source": []
  }
 ],
 "metadata": {
  "kernelspec": {
   "display_name": "Python 3",
   "language": "python",
   "name": "python3"
  },
  "language_info": {
   "codemirror_mode": {
    "name": "ipython",
    "version": 2
   },
   "file_extension": ".py",
   "mimetype": "text/x-python",
   "name": "python",
   "nbconvert_exporter": "python",
   "pygments_lexer": "ipython2",
   "version": "2.7.17"
  }
 },
 "nbformat": 4,
 "nbformat_minor": 2
}
