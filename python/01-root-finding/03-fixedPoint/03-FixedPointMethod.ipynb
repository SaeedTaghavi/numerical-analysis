{
 "cells": [
  {
   "cell_type": "markdown",
   "metadata": {},
   "source": [
    "# FIXED-POINT ITERATION\n",
    "Use a calculator or computer to apply the `cos` function repeatedly to an arbitrary starting number. That is, apply the `cos` function to the starting number, then apply `cos` to the result, then to the new result, and so forth. (If you use a calculator, be sure it is in radian mode.) Continue until the digits no longer change. The resulting sequence of numbers converges to $0.7390851332$, at least to the first $10$ decimal places. In this section, our goal is to explain why this calculation, an instance of Fixed-Point Iteration (FPI), converges. While we do this, most of the major issues of algorithm convergence will come under discussion.\n",
    "\n",
    "![alg-fixed-point](./img/alg-fixed-point-01.png)"
   ]
  },
  {
   "cell_type": "code",
   "execution_count": 3,
   "metadata": {},
   "outputs": [
    {
     "name": "stdout",
     "output_type": "stream",
     "text": [
      "(0, -0.4161468365471424)\n",
      "(1, 0.9146533258523714)\n",
      "(2, 0.6100652997429745)\n",
      "(3, 0.8196106080000903)\n",
      "(4, 0.6825058578960018)\n",
      "(5, 0.7759946131215992)\n",
      "(6, 0.7137247340083882)\n",
      "(7, 0.7559287135747029)\n",
      "(8, 0.7276347923146813)\n",
      "(9, 0.7467496017309728)\n",
      "(10, 0.7339005972426009)\n",
      "(11, 0.7425675503014617)\n",
      "(12, 0.7367348583938166)\n",
      "(13, 0.740666263873949)\n",
      "(14, 0.7380191411807893)\n",
      "(15, 0.7398027782109352)\n",
      "(16, 0.7386015286351051)\n",
      "(17, 0.7394108086387853)\n",
      "(18, 0.7388657151407354)\n",
      "(19, 0.7392329180769628)\n",
      "(20, 0.7389855754839373)\n",
      "(21, 0.7391521928375896)\n",
      "(22, 0.7390399593850235)\n",
      "(23, 0.7391155620964187)\n",
      "(24, 0.7390646356125481)\n",
      "(25, 0.739098940491585)\n",
      "(26, 0.7390758323972213)\n",
      "(27, 0.7390913983260384)\n",
      "(28, 0.739080912946604)\n",
      "(29, 0.739087976032245)\n",
      "(30, 0.7390832182563893)\n",
      "(31, 0.7390864231530693)\n",
      "(32, 0.7390842642968536)\n",
      "(33, 0.7390857185287056)\n",
      "(34, 0.7390847389407893)\n",
      "(35, 0.7390853988030626)\n",
      "(36, 0.739084954311929)\n",
      "(37, 0.7390852537265177)\n",
      "(38, 0.7390850520372555)\n",
      "(39, 0.7390851878975716)\n",
      "(40, 0.7390850963804297)\n",
      "(41, 0.739085158027478)\n",
      "(42, 0.7390851165012849)\n",
      "(43, 0.7390851444738282)\n",
      "(44, 0.7390851256311867)\n",
      "(45, 0.7390851383238167)\n",
      "(46, 0.7390851297739084)\n",
      "(47, 0.7390851355332295)\n",
      "(48, 0.7390851316536815)\n",
      "(49, 0.7390851342669917)\n"
     ]
    }
   ],
   "source": [
    "import math\n",
    "hadse_avalie=2.0\n",
    "result=hadse_avalie\n",
    "for i in range(50):\n",
    "    result=math.cos(result)\n",
    "    print(i,result)"
   ]
  },
  {
   "cell_type": "markdown",
   "metadata": {},
   "source": [
    "## Fixed points of a function\n",
    "**DEFINITION 1.4:** The real number $r$ is a fixed point of the function $g$ if $g(r) = r$.\n",
    "\n",
    "The number $r = 0.7390851332$ is an approximate fixed point for the function $g(x) = \\cos x$. \n",
    "\n",
    "The function $g(x) = x^3$ has three fixed points, $r = −1$, $0$, and $1$.\n",
    "\n",
    "The sequence x_i may or may not converge as the number of steps goes to infinity. However, if $g$ is continuous and the $x_i$ converge, say, to a number $r$, then $r$ is a fixed point.\n",
    "\n",
    "Fixed-Point Iteration solves the fixed-point problem $g(x) = x$, but we are primarily interested in solving equations. Can every equation $f (x) = 0$ be turned into a fixed-point problem $g(x) = x$? Yes, and in many different ways. For example, the root-finding equation of Example 1.1,\n",
    "\n",
    "$$ x^3 + x -1 =0 $$\n",
    "\n",
    "can be written as:\n",
    "\n",
    "$$ x=1-x^3 $$\n",
    "\n",
    "and we may define $g(x) = 1 − x^3$.\n",
    "\n",
    "Or in another example:\n",
    "\n",
    "$$  3x^3 + x = 1 +2x^3 $$\n",
    "$$  (3x^2 + 1)x = 1 +2x^3 $$\n",
    "$$ x= \\frac{1 +2x^3}{3x^2 + 1} $$\n",
    "and define $g(x) = \\frac{1 +2x^3}{3x^2 + 1} $.\n"
   ]
  },
  {
   "cell_type": "code",
   "execution_count": null,
   "metadata": {},
   "outputs": [],
   "source": []
  }
 ],
 "metadata": {
  "kernelspec": {
   "display_name": "Python 3",
   "language": "python",
   "name": "python3"
  },
  "language_info": {
   "codemirror_mode": {
    "name": "ipython",
    "version": 2
   },
   "file_extension": ".py",
   "mimetype": "text/x-python",
   "name": "python",
   "nbconvert_exporter": "python",
   "pygments_lexer": "ipython2",
   "version": "2.7.15+"
  }
 },
 "nbformat": 4,
 "nbformat_minor": 2
}
