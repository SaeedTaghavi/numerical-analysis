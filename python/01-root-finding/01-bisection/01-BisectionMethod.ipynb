{
 "cells": [
  {
   "cell_type": "markdown",
   "metadata": {},
   "source": [
    "# Bracketing a root\n",
    "\n",
    "**DEFINITION 1.1**: The function $f(x)$ has a root at $x = r$ if $f (r) = 0$.\n",
    "\n",
    "The first step to solving an equation is to verify that a root exists. One way to ensure\n",
    "this is to bracket the root: to find an interval $[a, b]$ on the real line for which one of the pair ${f (a), f (b)}$ is positive and the other is negative. This can be expressed as $f (a)f (b) < 0$.\n",
    "\n",
    "**THEOREM 1.2**: Let $f$ be a continuous function on $[a, b]$, satisfying $f (a)f (b) < 0$. Then $f$ has a root between $a$ and $b$, that is, there exists a number $r$ satisfying $a < r < b$ and $f (r) = 0$.\n",
    "\n",
    "| ![root-01](./img/root-01.png) |\n",
    "|:--:|\n",
    "| A plot of $f (x) = x^3 + x − 1$. The function has a root between $0.6$ and $0.7$ . |\n",
    "\n",
    "| ![root-02](./img/root-02.png) |\n",
    "|:--:|\n",
    "| **The Bisection Method**: On the first step, the sign of $f (c_0 )$ is checked. Since $f (c_0 )f (b_0 ) < 0$, set $a_1 = c_0$ , $b_1 = b_0$ , and the interval is replaced by the right half $[a_1 , b_1 ]$. On the second step, the subinterval is replaced by its left half $[a_2 , b_2 ]$. |\n",
    "\n",
    "\n",
    "| ![bisection-alg](./img/bisection_alg.png) |\n",
    "|:--:|\n",
    "| |\n"
   ]
  },
  {
   "cell_type": "markdown",
   "metadata": {},
   "source": [
    "**EXAMPLE 1.1**: Find a root of the function $f (x) = x^3 + x − 1$ by using the Bisection Method on the interval $[0, 1]$."
   ]
  },
  {
   "cell_type": "code",
   "execution_count": 1,
   "metadata": {
    "slideshow": {
     "slide_type": "slide"
    }
   },
   "outputs": [],
   "source": [
    "def f(x):\n",
    "    return x*x*x + x - 1.0\n"
   ]
  },
  {
   "cell_type": "code",
   "execution_count": 3,
   "metadata": {
    "slideshow": {
     "slide_type": "subslide"
    }
   },
   "outputs": [
    {
     "name": "stdout",
     "output_type": "stream",
     "text": [
      "-1.0\n",
      "1.0\n",
      "-1.0\n"
     ]
    }
   ],
   "source": [
    "print (f(0))\n",
    "print (f(1))\n",
    "print (f(0)*f(1))"
   ]
  },
  {
   "cell_type": "code",
   "execution_count": 6,
   "metadata": {
    "slideshow": {
     "slide_type": "slide"
    }
   },
   "outputs": [
    {
     "name": "stdout",
     "output_type": "stream",
     "text": [
      "(0.0, 1.0)\n",
      "(0.5, 1.0)\n",
      "(0.5, 0.75)\n",
      "(0.625, 0.75)\n",
      "(0.625, 0.6875)\n",
      "(0.65625, 0.6875)\n",
      "(0.671875, 0.6875)\n",
      "(0.6796875, 0.6875)\n",
      "(0.6796875, 0.68359375)\n",
      "(0.681640625, 0.68359375)\n",
      "(0.681640625, 0.6826171875)\n",
      "(0.68212890625, 0.6826171875)\n",
      "(0.68212890625, 0.682373046875)\n",
      "('rishe takhmini tabe dade shode:', 0.68231201171875)\n"
     ]
    }
   ],
   "source": [
    "a=0.0\n",
    "b=1.0\n",
    "deghat=.0001\n",
    "if (f(a)*f(b)<0.0):\n",
    "    while (b-a)/2.0 > deghat:\n",
    "        c=(a+b)/2.0\n",
    "        print(a,b)\n",
    "        if f(c)==0:\n",
    "            print(\"rishe in tabe dar bazeye [%f,%f] barabar ast ba %f\" % a,b,c)\n",
    "        if f(a)*f(c)<0.0:\n",
    "            b=c\n",
    "        else:\n",
    "            a=c\n",
    "else:\n",
    "    print (\"error, sharte  'f(a)*f(b)<0' bargharar nist!!!\")\n",
    "rishe_takhmini=a+b\n",
    "rishe_takhmini=rishe_takhmini/2.0\n",
    "print (\"rishe takhmini tabe dade shode:\",rishe_takhmini)"
   ]
  },
  {
   "cell_type": "code",
   "execution_count": 5,
   "metadata": {},
   "outputs": [
    {
     "data": {
      "text/plain": [
       "-0.375"
      ]
     },
     "execution_count": 5,
     "metadata": {},
     "output_type": "execute_result"
    }
   ],
   "source": [
    "(0.5**3.0 ) + (0.5) -1"
   ]
  },
  {
   "cell_type": "markdown",
   "metadata": {},
   "source": [
    "As noted, $f (a_0 )f (b_0 ) = (−1)(1) < 0$, so a root exists in the interval. The interval\n",
    "midpoint is $c_0 = 1/2$. The first step consists of evaluating $f (1/2) = −3/8 < 0$ and choosing the new interval $[a_1 , b_1 ] = [1/2, 1]$, since $f (1/2)f (1) < 0$. The second step consists of evaluating $f (c_1 ) = f (3/4) = 11/64 > 0$, leading to the new interval $[a_2 , b_2 ] = [1/2, 3/4]$. Continuing in this way yields the following intervals:\n",
    "\n",
    "\n",
    "\n",
    "| ![table-01.png](./img/table-01.png) |\n",
    "| :---: |\n",
    "||\n",
    "\n",
    "Although the problem was to find a root, what we have actually found is an interval $[0.6816, 0.6826]$ that contains a root; in other words, the root is $r = 0.6821 ± 0.0005$. We will have to be satisfied with an approximation. Of course, the approximation can be improved, if needed, by completing more steps of the Bisection Method.\n",
    "\n",
    "**our best estimate of the solution is the midpoint of the latest interval.**"
   ]
  },
  {
   "cell_type": "markdown",
   "metadata": {},
   "source": [
    "## How accurate and how fast?\n",
    "\n",
    "If $[a, b]$ is the starting interval, then after $n$ bisection steps, the interval $[a_n , b_n ]$ has length $(b − a)/2^n$ . Choosing the midpoint $x_c = (a_n + b_n )/2$ gives a best estimate of the solution $r$, which is within half the interval length of the true solution. Summarizing, after $n$ steps of the Bisection Method, we find that:\n",
    "\n",
    " $$Solution\\ Error=|x_c-r|<\\frac{b-a}{2^{n+1}}$$\n",
    " \n",
    " and\n",
    " \n",
    " $$ Function\\ evaluations= n+2.  $$\n",
    " \n",
    "A good way to assess the efficiency of the Bisection Method is to ask how much accuracy can be bought per function evaluation. Each step, or each function evaluation, cuts the uncertainty in the root by a factor of two.\n",
    "\n",
    "**DEFINITION 1.3 :** A solution is **correct within $p$ decimal places** if the error is less than $0.5 × 10^{−p}$ ."
   ]
  },
  {
   "cell_type": "code",
   "execution_count": 11,
   "metadata": {},
   "outputs": [
    {
     "data": {
      "text/plain": [
       "20000"
      ]
     },
     "execution_count": 11,
     "metadata": {},
     "output_type": "execute_result"
    }
   ],
   "source": [
    "100000/5\n"
   ]
  },
  {
   "cell_type": "markdown",
   "metadata": {},
   "source": [
    "**EXAMPLE 1.2:** Use the Bisection Method to find a root of $f (x) = \\cos x − x$ in the interval $[0, 1]$ to within six correct places.\n",
    "\n",
    "\n",
    "First we decide how many steps of bisection are required. The error after $n$ steps is $(b − a)/2^{n+1} = 1/2^{n+1}$ . From the definition of $p$ decimal places, we require that\n",
    "$$ \\frac{1}{2^{n+1}}< 0.5 × 10^{−p} $$\n",
    "$$ n> \\frac{6}{log_{10}2} \\approx \\frac{6}{0.3010} = 19.9 $$\n",
    "Therefore, $n = 20$ steps will be needed. Proceeding with the Bisection Method, the following table is produced:"
   ]
  },
  {
   "cell_type": "code",
   "execution_count": 27,
   "metadata": {},
   "outputs": [
    {
     "name": "stdout",
     "output_type": "stream",
     "text": [
      "(0, 0.0, 1.0, 0.5)\n",
      "(1, 0.5, 1.0, 0.75)\n",
      "(2, 0.5, 0.75, 0.625)\n",
      "(3, 0.625, 0.75, 0.6875)\n",
      "(4, 0.6875, 0.75, 0.71875)\n",
      "(5, 0.71875, 0.75, 0.734375)\n",
      "(6, 0.734375, 0.75, 0.7421875)\n",
      "(7, 0.734375, 0.7421875, 0.73828125)\n",
      "(8, 0.73828125, 0.7421875, 0.740234375)\n",
      "(9, 0.73828125, 0.740234375, 0.7392578125)\n",
      "(10, 0.73828125, 0.7392578125, 0.73876953125)\n",
      "(11, 0.73876953125, 0.7392578125, 0.739013671875)\n",
      "(12, 0.739013671875, 0.7392578125, 0.7391357421875)\n",
      "(13, 0.739013671875, 0.7391357421875, 0.73907470703125)\n",
      "(14, 0.73907470703125, 0.7391357421875, 0.739105224609375)\n",
      "(15, 0.73907470703125, 0.739105224609375, 0.7390899658203125)\n",
      "(16, 0.73907470703125, 0.7390899658203125, 0.7390823364257812)\n",
      "(17, 0.7390823364257812, 0.7390899658203125, 0.7390861511230469)\n",
      "(18, 0.7390823364257812, 0.7390861511230469, 0.7390842437744141)\n",
      "(19, 0.7390842437744141, 0.7390861511230469, 0.7390851974487305)\n",
      "('rishe takhmini tabe dade shode:', 0.7390847206115723)\n"
     ]
    }
   ],
   "source": [
    "import math\n",
    "def f(x):\n",
    "    return math.cos(x)-x\n",
    "\n",
    "a=0.0\n",
    "b=1.0\n",
    "tolerance=0.0\n",
    "tedade_dafeat=20\n",
    "n=0\n",
    "if (f(a)*f(b)<0.0):\n",
    "    while (n<tedade_dafeat):\n",
    "        c=(a+b)/2.0\n",
    "        print(n,a,b,c)\n",
    "        if f(c)==0:\n",
    "            print(\"rishe in tabe dar bazeye [%f,%f] barabar ast ba %f\" % a,b,c)\n",
    "        if f(a)*f(c)<0.0:\n",
    "            b=c\n",
    "        else:\n",
    "            a=c\n",
    "        n=n+1\n",
    "else:\n",
    "    print (\"error, sharte  'f(a)*f(b)<0' bargharar nist!!!\")\n",
    "rishe_takhmini=a+b\n",
    "rishe_takhmini=rishe_takhmini/2.0\n",
    "print (\"rishe takhmini tabe dade shode:\",rishe_takhmini)"
   ]
  },
  {
   "cell_type": "markdown",
   "metadata": {},
   "source": [
    "For the Bisection Method, the question of how many steps to run is a simple one—just\n",
    "choose the desired precision and find the number of necessary steps. We will see that more high-powered algorithms are often less predictable. In those cases, we will need to establish definite \"stopping criteria\" that govern the circumstances under which the algorithm terminates. Even for the Bisection Method, the finite precision of computer arithmetic will put a limit on the number of possible correct digits. We will look into this issue further."
   ]
  },
  {
   "cell_type": "markdown",
   "metadata": {},
   "source": [
    "## Exercises:\n",
    "1. Suppose that the Bisection Method with starting interval $[−2, 1]$ is used to find a root of the function $f (x) = 1/x$. Does the method converge to a real number? Is it the root?\n",
    "\n",
    "## Computer Problems\n",
    "1. Use the Bisection Method to find the root to six correct decimal places. \n",
    "    - (a) $ x^3 = 9$\n",
    "    - (b) $ 3x^3 + x^2 = x + 5$\n",
    "    - (c) $ \\cos^2 x + 6 = x$\n",
    "2. Use the Bisection Method to find the root to eight correct decimal places. \n",
    "    - (a) $x^5 + x = 1$\n",
    "    - (b) $ \\sin x = 6x + 5$\n",
    "    - (c) $ \\ln x + x^2 = 3$\n",
    "3. Use the Bisection Method to calculate the solution of $ \\cos x = \\sin x $ in the interval $[0, 1]$ within six correct decimal places."
   ]
  },
  {
   "cell_type": "code",
   "execution_count": 7,
   "metadata": {},
   "outputs": [],
   "source": [
    "import numpy as np\n",
    "import matplotlib.pyplot as plt\n"
   ]
  },
  {
   "cell_type": "code",
   "execution_count": 29,
   "metadata": {},
   "outputs": [],
   "source": [
    "x=np.linspace(0.0,1.0,100)\n",
    "sin=np.sin(x)\n",
    "cos=np.cos(x)\n"
   ]
  },
  {
   "cell_type": "code",
   "execution_count": 30,
   "metadata": {},
   "outputs": [
    {
     "data": {
      "text/plain": [
       "[<matplotlib.lines.Line2D at 0x7fa610065490>]"
      ]
     },
     "execution_count": 30,
     "metadata": {},
     "output_type": "execute_result"
    },
    {
     "data": {
      "image/png": "[encoded data removed]",
      "text/plain": [
       "<matplotlib.figure.Figure at 0x7fa610065590>"
      ]
     },
     "metadata": {
      "needs_background": "light"
     },
     "output_type": "display_data"
    }
   ],
   "source": [
    "plt.plot(x,sin,'r-')\n",
    "plt.plot(x,cos,'b-')"
   ]
  },
  {
   "cell_type": "code",
   "execution_count": 26,
   "metadata": {},
   "outputs": [],
   "source": [
    "x=np.linspace(2,3,1000)\n",
    "y=(x**3.)-9."
   ]
  },
  {
   "cell_type": "code",
   "execution_count": 29,
   "metadata": {},
   "outputs": [
    {
     "data": {
      "text/plain": [
       "<matplotlib.collections.LineCollection at 0x7f2d1c4e3810>"
      ]
     },
     "execution_count": 29,
     "metadata": {},
     "output_type": "execute_result"
    },
    {
     "data": {
      "image/png": "[encoded data removed]",
      "text/plain": [
       "<matplotlib.figure.Figure at 0x7f2d1c359990>"
      ]
     },
     "metadata": {
      "needs_background": "light"
     },
     "output_type": "display_data"
    }
   ],
   "source": [
    "plt.plot(x,y)\n",
    "plt.hlines(0,x[0],x[-1])\n"
   ]
  },
  {
   "cell_type": "code",
   "execution_count": null,
   "metadata": {},
   "outputs": [],
   "source": []
  }
 ],
 "metadata": {
  "celltoolbar": "Slideshow",
  "kernelspec": {
   "display_name": "Python 3",
   "language": "python",
   "name": "python3"
  },
  "language_info": {
   "codemirror_mode": {
    "name": "ipython",
    "version": 2
   },
   "file_extension": ".py",
   "mimetype": "text/x-python",
   "name": "python",
   "nbconvert_exporter": "python",
   "pygments_lexer": "ipython2",
   "version": "2.7.17"
  }
 },
 "nbformat": 4,
 "nbformat_minor": 2
}
